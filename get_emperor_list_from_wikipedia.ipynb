{
 "cells": [
  {
   "cell_type": "markdown",
   "metadata": {},
   "source": [
    "# Data Cleaning Project: Wikipedia List of Roman Emperors"
   ]
  },
  {
   "cell_type": "markdown",
   "metadata": {},
   "source": [
    "This Jupyter Notebook creates a csv-file that contains data about roman emperors.\n",
    "\n",
    "The data source is the Wikipedia page \"https://en.wikipedia.org/wiki/List_of_Roman_emperors\". The html-file of the Wikipedia page has been downloaded into the project repository.\n"
   ]
  },
  {
   "cell_type": "markdown",
   "metadata": {},
   "source": [
    "##### Import Pandas"
   ]
  },
  {
   "cell_type": "code",
   "execution_count": 53,
   "metadata": {},
   "outputs": [],
   "source": [
    "# Import Pandas library\n",
    "import pandas as pd"
   ]
  },
  {
   "cell_type": "markdown",
   "metadata": {},
   "source": [
    "##### Load content"
   ]
  },
  {
   "cell_type": "code",
   "execution_count": 54,
   "metadata": {},
   "outputs": [],
   "source": [
    "# Load Wikipedia content from pre-downloaded html-file.\n",
    "wikipedia_content = pd.read_html(r\"list_roman_emperors_2023_wikipedia.htm\")"
   ]
  },
  {
   "cell_type": "markdown",
   "metadata": {},
   "source": [
    "##### Get tables from content"
   ]
  },
  {
   "cell_type": "code",
   "execution_count": 55,
   "metadata": {},
   "outputs": [],
   "source": [
    "# The Wikipedia page has 12 tables with information about roman emperors.\n",
    "# Download all the tables into a list.\n",
    "table_list = []\n",
    "for i in range(1,13):\n",
    "    table_list.append(wikipedia_content[i])"
   ]
  },
  {
   "cell_type": "markdown",
   "metadata": {},
   "source": [
    "##### Add information to tables: 'Period' and 'Epoch'"
   ]
  },
  {
   "cell_type": "code",
   "execution_count": 45,
   "metadata": {},
   "outputs": [],
   "source": [
    "# Every table corresponds to a historic period (mostly a dynasty).\n",
    "# Creat a list of all the historic periods. \n",
    "# The labels of the historic periods are taken from the Wikipedia page.\n",
    "list_of_periods = [\"Julio-Claudian dynasty (27 BC-68 AD)\", \n",
    "                   \"Year of the Four Emperors (68-69)\", \n",
    "                   \"Flavian dynasty (69-96)\", \n",
    "                   \"Nerva-Antonine dynasty (96-192)\", \n",
    "                   \"Year of the Five Emperors (193)\", \n",
    "                   \"Severan dynasty (193-235)\", \n",
    "                   \"Crisis of the Third Century (235-285)\", \n",
    "                   \"Tetrarchy (284-324)\", \n",
    "                   \"Constantinian dynasty (306-363)\", \n",
    "                   \"Valentinianic dynasty (364-392)\", \n",
    "                   \"Theodosian dynasty (379-457)\", \n",
    "                   \"Last western emperors (455-476)\"]"
   ]
  },
  {
   "cell_type": "code",
   "execution_count": 46,
   "metadata": {},
   "outputs": [],
   "source": [
    "# Add the historic periods to the corresponding table in the list of tables.\n",
    "for i in range(len(table_list)):\n",
    "    table_list[i]['Period'] = list_of_periods[i]"
   ]
  },
  {
   "cell_type": "code",
   "execution_count": 47,
   "metadata": {},
   "outputs": [],
   "source": [
    "# The emperor tables correspond to two historical epochs: the Principate and the Dominate.\n",
    "# Create a list of the epochs.\n",
    "list_of_epochs = [\"Principate (27 BC-284 AD)\", \"Dominate (284-476)\"]"
   ]
  },
  {
   "cell_type": "code",
   "execution_count": 48,
   "metadata": {},
   "outputs": [],
   "source": [
    "# The Emperor-tables 1 to 7 correspond to the epoch 'Principate' and table 8 to 12 correspond to the epoch 'Dominate'.\n",
    "# Add the epochs to the corresponding table in the table_list.\n",
    "for i in range(len(table_list)):\n",
    "    if i < 7:\n",
    "        table_list[i]['Epoch'] = list_of_epochs[0]\n",
    "    else:\n",
    "        table_list[i]['Epoch'] = list_of_epochs[1]"
   ]
  },
  {
   "cell_type": "markdown",
   "metadata": {},
   "source": [
    "##### Clean column 'Name'"
   ]
  },
  {
   "cell_type": "code",
   "execution_count": 49,
   "metadata": {},
   "outputs": [],
   "source": [
    "# Two of the emperor-tables (the 1st table and the 10th table) have divergent column names \n",
    "# for the column that holds the names of the emperors. \n",
    "# The reason for this is, that in the mentioned emperor tables the \"Name\" column has a footnote, \n",
    "# which creates divergent column names (\"Name[f]\" and \"Name[q]\").\n",
    "# Make sure that name column is labeled \"Name\" in all emperor tables.\n",
    "for i in range(len(table_list)):\n",
    "    table_list[i].columns.values[1] = 'Name'"
   ]
  },
  {
   "cell_type": "markdown",
   "metadata": {},
   "source": [
    "##### Combine tables into dataframe"
   ]
  },
  {
   "cell_type": "code",
   "execution_count": 50,
   "metadata": {},
   "outputs": [],
   "source": [
    "# Combine all 12 emperor tables and create a combined table that holds all data.\n",
    "combined_table = pd.concat(table_list)"
   ]
  },
  {
   "cell_type": "markdown",
   "metadata": {},
   "source": [
    "##### Save dataframe"
   ]
  },
  {
   "cell_type": "code",
   "execution_count": 51,
   "metadata": {},
   "outputs": [],
   "source": [
    "# Save the combined_table to a csv-file.\n",
    "combined_table.to_csv(r\"C:\\Users\\Rainer\\Documents\\mein github code\\roman_emperors_data_cleaning\\data_roman_emperors.csv\", index=False)"
   ]
  }
 ],
 "metadata": {
  "kernelspec": {
   "display_name": "Python 3",
   "language": "python",
   "name": "python3"
  },
  "language_info": {
   "codemirror_mode": {
    "name": "ipython",
    "version": 3
   },
   "file_extension": ".py",
   "mimetype": "text/x-python",
   "name": "python",
   "nbconvert_exporter": "python",
   "pygments_lexer": "ipython3",
   "version": "3.12.0"
  }
 },
 "nbformat": 4,
 "nbformat_minor": 2
}
