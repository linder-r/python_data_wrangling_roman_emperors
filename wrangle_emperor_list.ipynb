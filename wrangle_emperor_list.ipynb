{
 "cells": [
  {
   "cell_type": "markdown",
   "metadata": {},
   "source": [
    "# Data Warngling Project: Wikipedia List of Roman Emperors"
   ]
  },
  {
   "cell_type": "markdown",
   "metadata": {},
   "source": [
    "##### Import necessary modules"
   ]
  },
  {
   "cell_type": "markdown",
   "metadata": {},
   "source": [
    "This Jupyter Notebook loads a Wikipedia list of Roman emperors into a Pandas DataFrame and then cleans and transforms the data. \n",
    "\n",
    "The original Wikipedia list includes Roman and Byzantine emperors. The project will only cover the period up to the fall of the Western Roman empire in 476. The last emperor included in the project data is Romulus Augustulus.\n",
    "\n",
    "The original Wikipedia list consists of five columns:\n",
    "1. Portrait\n",
    "2. Name\n",
    "3. Reign\n",
    "4. Succession\n",
    "5. Life details\n",
    "\n",
    "Two columns have been added during the web scraping of the Wikipedia page:\n",
    "1. Period\n",
    "2. Epoch\n",
    "\n",
    "During the project the originals columns will be split and the relevant information extracted.\n",
    "\n",
    "The final dataset consists of 33 columns:\n",
    "1. Common Name\n",
    "2. Full Name\n",
    "3. Certainty Begin First Reign\n",
    "4. Era Begin First Reign\n",
    "5. Begin First Reign\n",
    "6. Certainty End First Reign\n",
    "7. End First Reign\n",
    "8. Days of First Reign\n",
    "9. Years of First Reign\n",
    "10. Certainty Begin Second Reign\n",
    "11. Begin Second Reign\n",
    "12. Certainty End Second Reign\n",
    "13. End Second Reign\n",
    "14. Days of Second Reign\n",
    "15. Years of Second Reign\n",
    "16. Part of Empire\n",
    "17. Period\n",
    "18. Epoch\n",
    "19. Legitimacy\n",
    "20. Status as Emperor\n",
    "21. Succession 1\n",
    "22. Succession 2\n",
    "23. Succession 3\n",
    "24. Certainty Birth\n",
    "25. Era Birth\n",
    "26. Date of Birth\n",
    "27. Certainty Death\n",
    "28. Date of Death\n",
    "29. Age\n",
    "30. Life details 1\n",
    "31. Life details 2 \n",
    "32. Life details 3\n",
    "33. Life details 4"
   ]
  },
  {
   "cell_type": "code",
   "execution_count": 144,
   "metadata": {},
   "outputs": [],
   "source": [
    "# Import pandas, numpy and re module.\n",
    "import pandas as pd\n",
    "import numpy as np\n",
    "import re"
   ]
  },
  {
   "cell_type": "markdown",
   "metadata": {},
   "source": [
    "##### Load the List of Roman Emperors"
   ]
  },
  {
   "cell_type": "code",
   "execution_count": 145,
   "metadata": {},
   "outputs": [],
   "source": [
    "# Load list of Roman emperors.\n",
    "# The targeted Wikipedia page is: https://en.wikipedia.org/wiki/List_of_Roman_emperors\n",
    "# The data has been pre-downloaded into a csv-file: \n",
    "emperors = pd.read_csv(r\"data_roman_emperors.csv\")"
   ]
  },
  {
   "cell_type": "markdown",
   "metadata": {},
   "source": [
    "##### Drop empty columns and rows. Remove dashes and footnotes"
   ]
  },
  {
   "cell_type": "code",
   "execution_count": 146,
   "metadata": {},
   "outputs": [],
   "source": [
    "# Drop the 'Portrait' column, because it only contains 'Null'-values.\n",
    "emperors = emperors.drop('Portrait', axis=1)"
   ]
  },
  {
   "cell_type": "code",
   "execution_count": 147,
   "metadata": {},
   "outputs": [],
   "source": [
    "# Drop empty rows.\n",
    "emperors = emperors.dropna()"
   ]
  },
  {
   "cell_type": "code",
   "execution_count": 148,
   "metadata": {},
   "outputs": [],
   "source": [
    "# Reset index.\n",
    "emperors = emperors.reset_index(drop=True)"
   ]
  },
  {
   "cell_type": "code",
   "execution_count": 149,
   "metadata": {},
   "outputs": [],
   "source": [
    "# Replace dash with hyphen.\n",
    "emperors = emperors.replace(to_replace=\"–\", value=\"-\", regex=True)\n"
   ]
  },
  {
   "cell_type": "code",
   "execution_count": 150,
   "metadata": {},
   "outputs": [],
   "source": [
    "# Some values have footnotes in square brackets attached to them, like '[m]', '[r]' or '[34]'.\n",
    "# Remove all footnotes in all columns.\n",
    "emperors = emperors.replace(to_replace=r\"\\[(.|..|...)]\", value=\"\", regex=True)"
   ]
  },
  {
   "cell_type": "markdown",
   "metadata": {},
   "source": [
    "# 'Name' column"
   ]
  },
  {
   "cell_type": "markdown",
   "metadata": {},
   "source": [
    "##### Clean 'Name' column"
   ]
  },
  {
   "cell_type": "code",
   "execution_count": 151,
   "metadata": {},
   "outputs": [],
   "source": [
    "# Remove quotation marks and parenthesis. \n",
    "emperors['Name'] = emperors['Name'].replace(to_replace='\"', value='', regex=True)\n",
    "emperors['Name'] = emperors['Name'].replace(to_replace='\\\\(', value='', regex=True)\n",
    "emperors['Name'] = emperors['Name'].replace(to_replace='\\\\)', value='', regex=True)"
   ]
  },
  {
   "cell_type": "markdown",
   "metadata": {},
   "source": [
    "##### Remove symbols from 'Name' column and perserve information in new columns 'Legitimacy' and 'Status as Emperor'"
   ]
  },
  {
   "cell_type": "markdown",
   "metadata": {},
   "source": [
    "It's not always clear who was the Roman emperor at a given time. The Wikipedia page marks unclear cases with two symbols in the 'Name' column:\n",
    "\n",
    "- (#) 'Ambiguous legitimacy' = cases where more than one emperor held power at a given time and the recorded emperor did not achieved the full recognition of the other emperor(s).\n",
    "\n",
    "- (§) 'Varying ascribed status' = cases where an emperor ascended the throne as a child and is therfor not recognozied by all scholars."
   ]
  },
  {
   "cell_type": "code",
   "execution_count": 152,
   "metadata": {},
   "outputs": [],
   "source": [
    "# Find rows that contain symbols (#) and (§).\n",
    "legitimacy_condition = emperors[\"Name\"].str.match(r\".*(#).*\")\n",
    "status_condition = emperors[\"Name\"].str.match(r\".*(§).*\")\n",
    "\n",
    "# Create a new columns 'Legitimacy' with values \"weak\" (marked by symbol) and \"strong\".\n",
    "emperors[\"Legitimacy\"] = np.where(legitimacy_condition, \"weak\", \"strong\")\n",
    "\n",
    "# Create a new columns 'Status as Emperor' with values \"controversial\" (marked by symbol) and \"canonical\".\n",
    "emperors[\"Status as Emperor\"] = np.where(status_condition, \"controversial\", \"canonical\")\n",
    "\n",
    "# Replace symbols '(#)' and '(§)' in the 'Name' column.\n",
    "emperors[\"Name\"].replace(to_replace=r\"\\s#\", value=\"\", regex=True, inplace=True)\n",
    "emperors[\"Name\"].replace(to_replace=r\"\\s§\", value=\"\", regex=True, inplace=True)"
   ]
  },
  {
   "cell_type": "markdown",
   "metadata": {},
   "source": [
    "#### Split 'Name' column into new columns 'Common Name' and 'Full Name'"
   ]
  },
  {
   "cell_type": "markdown",
   "metadata": {},
   "source": [
    "Roman naming conventions are complex. A person's name had usually three parts: nomen, praenomen and cognomen. This naming convention began to fade away from the 3rd century onwards. As a consequence the names of the Roman emperors vary in length and do not follow a common pattern. Usually emperors have long official names, but are commonly known under a shorter name. The common name can consist of one, two, three or four words. "
   ]
  },
  {
   "cell_type": "code",
   "execution_count": 153,
   "metadata": {},
   "outputs": [],
   "source": [
    "# Create lists with the emperors' common names, differentiating between two, three and four word names.\n",
    "four_word_names = ['Constantine I the Great', 'Valentinian I the Great', 'Theodosius I the Great', \n",
    "                   'Philip I the Arab', 'Philip II the Younger']\n",
    "\n",
    "three_word_names = ['Maximinus I Thrax', 'Maximinus II Daza', 'Claudius II Gothicus', \n",
    "                    'Julian the Apostate', 'Constantius I Chlorus']\n",
    "\n",
    "two_word_names = ['Antoninus Pius', 'Marcus Aurelius', 'Lucius Verus', 'Didius Julianus', \n",
    "                  'Septimius Severus', 'Severus Alexander', 'Gordian I', 'Gordian II', 'Gordian III', \n",
    "                  'Herennius Etruscus', 'Trebonianus Gallus', 'Diocletian Jovius', 'Maximian Herculius', \n",
    "                  'Severus II', 'Valerius Valens', 'Constantine II', 'Constantius II', 'Magnus Maximus', \n",
    "                  'Valentinian II', 'Constantine III', 'Theodosius II', 'Priscus Attalus', 'Constantius III', \n",
    "                  'Valentinian III', 'Petronius Maximus', 'Libius Severus', 'Julius Nepos', 'Romulus Augustulus']\n",
    "\n",
    "# Create new columns 'Common Name and 'Full Name'.\n",
    "emperors['Common Name'] = emperors['Name']\n",
    "emperors['Full Name'] = emperors['Name']\n",
    "\n",
    "# Split 'Name' column and copy first part (corresponds to emperor names with only one word) into the 'Common Name' column.\n",
    "# Copy 'Name' column without the 'Common Name' part into 'Full Name' column. \n",
    "for i in range(len(emperors)):\n",
    "    name_split = emperors['Name'][i].split(\" \")\n",
    "    new_name = name_split[0]\n",
    "    emperors['Common Name'][i] = new_name\n",
    "    emperors['Full Name'][i] = emperors['Name'][i].replace((new_name + \" \"), \"\")\n",
    "\n",
    "    # Check if longer parts of the split are in the lists. If so, copy the correspondig name into the 'Common Name' column.\n",
    "    new_name = \" \".join(name_split[:2])\n",
    "    if new_name in two_word_names:\n",
    "        emperors['Common Name'][i] = new_name\n",
    "        emperors['Full Name'][i] = emperors['Name'][i].replace((new_name + \" \"), \"\")\n",
    "    new_name = \" \".join(name_split[:3])\n",
    "    if new_name in three_word_names:\n",
    "        emperors['Common Name'][i] = new_name\n",
    "        emperors['Full Name'][i] = emperors['Name'][i].replace((new_name + \" \"), \"\")\n",
    "    new_name = \" \".join(name_split[:4])\n",
    "    if new_name in four_word_names:\n",
    "        emperors['Common Name'][i] = new_name\n",
    "        emperors['Full Name'][i] = emperors['Name'][i].replace((new_name + \" \"), \"\")"
   ]
  },
  {
   "cell_type": "markdown",
   "metadata": {},
   "source": [
    "# 'Reign' column"
   ]
  },
  {
   "cell_type": "markdown",
   "metadata": {},
   "source": [
    "The 'Reign' column contains five types of information:\n",
    "- the dates of the first reign\n",
    "- the dates of the second reign\n",
    "- the duration of the first reign\n",
    "- the duration of the second reign\n",
    "- information about the controlled territory"
   ]
  },
  {
   "cell_type": "markdown",
   "metadata": {},
   "source": [
    "##### Extract reign information from 'Reign' column and store it in new columns 'Begin First Reign', 'End First Reign', 'Begin Second Reign' and 'End Second Reign'"
   ]
  },
  {
   "cell_type": "markdown",
   "metadata": {},
   "source": [
    "Most emperors ruled continously without interruption. But the reign of some emperors was interrupted, creating a first and a second reign of these emperors."
   ]
  },
  {
   "cell_type": "code",
   "execution_count": 154,
   "metadata": {},
   "outputs": [],
   "source": [
    "# Split 'Reign' column into new columns 'First Reign' and 'Second Reign'.\n",
    "emperors['First Reign'] = emperors['Reign'].str.extract(pat=r\"(.*?)(?=\\s\\()\", expand=True)\n",
    "emperors['Second Reign'] = emperors['Reign'].str.extract(pat=r\"(?<=\\)\\s)(.*)(?=\\s\\()\", expand=True)"
   ]
  },
  {
   "cell_type": "code",
   "execution_count": 155,
   "metadata": {},
   "outputs": [],
   "source": [
    "# Split 'First Reign' into new columns 'Begin First Reign', 'End First Reign'.\n",
    "emperors['Begin First Reign'] = emperors['First Reign'].str.extract(pat=r\"(.*)(?=\\s\\-)\", expand=True)\n",
    "emperors['End First Reign'] = emperors['First Reign'].str.extract(pat=r\"(?<=\\-\\s)(.*)\", expand=True)\n",
    "\n",
    "# Split 'Second Reign' into new columns 'Begin Second Reign', 'End Second Reign'.\n",
    "emperors['Begin Second Reign'] = emperors['Second Reign'].str.extract(pat=r\"(.*)(?=\\s\\-)\", expand=True)\n",
    "emperors['End Second Reign'] = emperors['Second Reign'].str.extract(pat=r\"(?<=\\-\\s)(.*)\", expand=True)"
   ]
  },
  {
   "cell_type": "code",
   "execution_count": 156,
   "metadata": {},
   "outputs": [],
   "source": [
    "# The 'Reign' column has been split using a hyphen '-' as demiliter. \n",
    "# But not all rows of the 'Reign' column contain a hyphen. \n",
    "# These rows are still empty.\n",
    "# Fill empty rows.\n",
    "begin_first_reign_null = emperors['Begin First Reign'].isnull()\n",
    "end_first_reign_null = emperors['End First Reign'].isnull()\n",
    "begin_second_reign_null = emperors['Begin Second Reign'].isnull()\n",
    "end_second_reign_null = emperors['End Second Reign'].isnull()\n",
    "\n",
    "emperors.loc[begin_first_reign_null, 'Begin First Reign'] = emperors['First Reign']\n",
    "emperors.loc[end_first_reign_null, 'End First Reign'] = emperors['First Reign']\n",
    "emperors.loc[begin_second_reign_null, 'Begin Second Reign'] = emperors['Second Reign']\n",
    "emperors.loc[end_second_reign_null, 'End Second Reign'] = emperors['Second Reign']"
   ]
  },
  {
   "cell_type": "code",
   "execution_count": 157,
   "metadata": {},
   "outputs": [],
   "source": [
    "# Replace trailing white spaces.\n",
    "emperors['Begin First Reign'] = emperors['Begin First Reign'].replace(to_replace=r\"\\s$\", value=\"\", regex=True)\n",
    "emperors['End First Reign'] = emperors['End First Reign'].replace(to_replace=r\"\\s$\", value=\"\", regex=True)\n",
    "emperors['Begin Second Reign'] = emperors['Begin Second Reign'].replace(to_replace=r\"\\s$\", value=\"\", regex=True)\n",
    "emperors['End Second Reign'] = emperors['End Second Reign'].replace(to_replace=r\"\\s$\", value=\"\", regex=True)"
   ]
  },
  {
   "cell_type": "code",
   "execution_count": 158,
   "metadata": {},
   "outputs": [],
   "source": [
    "# The reign of emperor Augustus started befor the year 0 (marked with 'BC') and ended after the year 0 (marked with 'AD'). \n",
    "# All other emperors reigned after the year 0.\n",
    "# This is only an issue for the column 'Begin First Reign'.\n",
    "# Store information in an column 'Era Begin First Reign'.\n",
    "def determine_era(row_value):\n",
    "    input_string = str(row_value)\n",
    "    if re.search(r\"\\sBC\", input_string):\n",
    "        return \"BC\"\n",
    "    else:\n",
    "        return \"AD\"\n",
    "\n",
    "emperors['Era Begin First Reign'] = emperors['Begin First Reign'].apply(determine_era)\n",
    "\n",
    "# Remove 'BC' and 'AD' from the 'Begin First Reign' and the 'End First Reign' column.\n",
    "emperors['Begin First Reign'] = emperors['Begin First Reign'].replace(to_replace=r\"\\sBC\", value=\"\", regex=True)\n",
    "emperors['End First Reign'] = emperors['End First Reign'].replace(to_replace=r\"\\sAD\", value=\"\", regex=True)"
   ]
  },
  {
   "cell_type": "code",
   "execution_count": 159,
   "metadata": {},
   "outputs": [],
   "source": [
    "# Extract the day from the 'Begin First Reign', 'End First Reign', 'Begin Second Reign' and 'End Second Reign' columns.\n",
    "def get_day(row_value):\n",
    "    input_string = str(row_value)\n",
    "    if re.search(r\"^\\d\\s\", input_string):\n",
    "        day = \"0\" + re.findall(r\"^\\d\\s\", input_string)[0]\n",
    "    elif re.search(r\"^\\d\\d\\s\", input_string):\n",
    "        day = re.findall(r\"^\\d\\d\\s\", input_string)[0]\n",
    "    else:\n",
    "        day = \"??\"\n",
    "    return day\n",
    "\n",
    "emperors['Day Begin First Reign'] = emperors['Begin First Reign'].apply(get_day)\n",
    "emperors['Day End First Reign'] = emperors['End First Reign'].apply(get_day)\n",
    "emperors['Day Begin Second Reign'] = emperors['Begin Second Reign'].apply(get_day)\n",
    "emperors['Day End Second Reign'] = emperors['End Second Reign'].apply(get_day)"
   ]
  },
  {
   "cell_type": "code",
   "execution_count": 160,
   "metadata": {},
   "outputs": [],
   "source": [
    "# Extract the month from the 'Begin First Reign', 'End First Reign', 'Begin Second Reign' and 'End Second Reign' columns.\n",
    "def get_month(row_value):\n",
    "    input_string = str(row_value)\n",
    "    month_dict = {'January':'01', 'February':'02', 'March':'03', 'April':'04', 'May':'05', 'June':'06',\n",
    "                  'July':'07', 'August':'08', 'September':'09', 'October':'10', 'November':'11', 'December':'12'}\n",
    "    month_names = \"January|February|March|April|May|June|July|August|September|October|November|December\"\n",
    "    if re.search(month_names, input_string):\n",
    "        name_of_month = re.findall(month_names, input_string)[0]\n",
    "        month = month_dict[name_of_month]\n",
    "    else:\n",
    "        month = \"??\"\n",
    "    return month\n",
    "\n",
    "emperors['Month Begin First Reign'] = emperors['Begin First Reign'].apply(get_month)\n",
    "emperors['Month End First Reign'] = emperors['End First Reign'].apply(get_month)\n",
    "emperors['Month Begin Second Reign'] = emperors['Begin Second Reign'].apply(get_month)\n",
    "emperors['Month End Second Reign'] = emperors['End Second Reign'].apply(get_month)"
   ]
  },
  {
   "cell_type": "code",
   "execution_count": 161,
   "metadata": {},
   "outputs": [],
   "source": [
    "# Extract the year from the 'Begin First Reign', 'End First Reign', 'Begin Second Reign' and 'End Second Reign' columns.\n",
    "def get_year(row_value):\n",
    "    input_string = str(row_value)\n",
    "    if re.search(r\"\\s\\d$\", input_string) or re.search(r\"^\\d{2}$\", input_string):\n",
    "        match = re.findall(r\"\\d$\", input_string)[0]\n",
    "        year = \"000\" + match\n",
    "    elif re.search(r\"\\s\\d{2}$\", input_string) or re.search(r\"^\\d{2}$\", input_string):\n",
    "        match = re.findall(r\"\\d{2}$\", input_string)[0]\n",
    "        year = \"00\" + match\n",
    "    elif re.search(r\"\\s\\d{3}$\", input_string) or re.search(r\"^\\d{3}$\", input_string):\n",
    "        match = re.findall(r\"\\d{3}$\", input_string)[0]\n",
    "        year = \"0\" + match\n",
    "    elif re.search(r\"\\s\\d{4}$\", input_string) or re.search(r\"^\\d{4}$\", input_string):\n",
    "        match = re.findall(r\"\\d{4}$\", input_string)[0]\n",
    "        year = match\n",
    "    else:\n",
    "        year = \"????\"\n",
    "    return year\n",
    "\n",
    "emperors['Year Begin First Reign'] = emperors['Begin First Reign'].apply(get_year)\n",
    "emperors['Year End First Reign'] = emperors['End First Reign'].apply(get_year)\n",
    "emperors['Year Begin Second Reign'] = emperors['Begin Second Reign'].apply(get_year)\n",
    "emperors['Year End Second Reign'] = emperors['End Second Reign'].apply(get_year)"
   ]
  },
  {
   "cell_type": "code",
   "execution_count": 162,
   "metadata": {},
   "outputs": [],
   "source": [
    "# In some cases the year is missing in the 'Year Begin First Reign' and 'Year Begin Second Reign' columns\n",
    "# but the year is given in the 'Year End First Reign' and 'Year End Second Reign' columns.\n",
    "# Extract the missing year from the 'Year End First Reign' and 'Year End Second Reign' columns.\n",
    "def missing_year(year_column_1, year_column_2):\n",
    "    string_1 = str(year_column_1)\n",
    "    string_2 = str(year_column_2)\n",
    "    if string_1 == \"????\":\n",
    "        year = string_2\n",
    "    else:\n",
    "        year = string_1\n",
    "    return year\n",
    "\n",
    "emperors['Year Begin First Reign'] = emperors.apply(\n",
    "    lambda x: missing_year(x['Year Begin First Reign'], x['Year End First Reign']), axis=1)\n",
    "emperors['Year Begin Second Reign'] = emperors.apply(\n",
    "    lambda x: missing_year(x['Year Begin Second Reign'], x['Year End Second Reign']), axis=1)"
   ]
  },
  {
   "cell_type": "code",
   "execution_count": 163,
   "metadata": {},
   "outputs": [],
   "source": [
    "# Combine the year, month, and day columns\n",
    "# into new columns 'Begin First Reign', 'End First Reign', 'Begin Second Reign' and 'End Second Reign'.\n",
    "emperors['Begin First Reign'] = emperors['Year Begin First Reign'].astype(str) + \"-\" \\\n",
    "        + emperors['Month Begin First Reign'].astype(str) + \"-\" \\\n",
    "        + emperors['Day Begin First Reign'].astype(str)\n",
    "\n",
    "emperors['End First Reign'] = emperors['Year End First Reign'].astype(str) + \"-\" \\\n",
    "        + emperors['Month End First Reign'].astype(str) + \"-\" \\\n",
    "        + emperors['Day End First Reign'].astype(str)\n",
    "\n",
    "emperors['Begin Second Reign'] = emperors['Year Begin Second Reign'].astype(str) + \"-\" \\\n",
    "        + emperors['Month Begin Second Reign'].astype(str) + \"-\" \\\n",
    "        + emperors['Day Begin Second Reign'].astype(str)\n",
    "\n",
    "emperors['End Second Reign'] = emperors['Year End Second Reign'].astype(str) + \"-\" \\\n",
    "        + emperors['Month End Second Reign'].astype(str) + \"-\" \\\n",
    "        + emperors['Day End Second Reign'].astype(str)"
   ]
  },
  {
   "cell_type": "code",
   "execution_count": 164,
   "metadata": {},
   "outputs": [],
   "source": [
    "# Mark records with missing dates for the second reign with 'No second reign'.\n",
    "emperors.loc[emperors['Begin Second Reign'] == \"????-??-??\", 'Begin Second Reign'] = 'No second reign'\n",
    "emperors.loc[emperors['End Second Reign'] == \"????-??-??\", 'End Second Reign'] = 'No second reign'"
   ]
  },
  {
   "cell_type": "markdown",
   "metadata": {},
   "source": [
    "##### Extract level of certainty about the reign dates from the 'Reign' column "
   ]
  },
  {
   "cell_type": "markdown",
   "metadata": {},
   "source": [
    "A lot of the reign dates are uncertain. The reign columns mark the uncertainty of the dates with the label 'c.' Extract this information and store it in four new columns 'Begin First Reign', 'End First Reign', 'Begin Second Reign' and 'End Second Reign'."
   ]
  },
  {
   "cell_type": "code",
   "execution_count": 165,
   "metadata": {},
   "outputs": [],
   "source": [
    "# Extract certainty of dates.\n",
    "def get_certainty(row_value):\n",
    "    input_string = str(row_value)\n",
    "    if re.search(r\"c\\.\\s\", input_string):\n",
    "        return \"approximate\"\n",
    "    else:\n",
    "        return \"certain\"\n",
    "\n",
    "emperors['Certainty Begin First Reign'] = emperors['Begin First Reign'].apply(get_certainty)\n",
    "emperors['Certainty End First Reign'] = emperors['End First Reign'].apply(get_certainty)\n",
    "emperors['Certainty Begin Second Reign'] = emperors['Begin Second Reign'].apply(get_certainty)\n",
    "emperors['Certainty End Second Reign'] = emperors['End Second Reign'].apply(get_certainty)"
   ]
  },
  {
   "cell_type": "code",
   "execution_count": 166,
   "metadata": {},
   "outputs": [],
   "source": [
    "# Remove the date label 'c.' from 'Reign' columns.\n",
    "reign_columns = ['Begin First Reign', 'Begin Second Reign', 'End First Reign', 'End Second Reign']\n",
    "\n",
    "for i in reign_columns:\n",
    "    emperors[i] = emperors[i].replace(to_replace=r\"^c\\.\\s\", value=\"\", regex=True)"
   ]
  },
  {
   "cell_type": "markdown",
   "metadata": {},
   "source": [
    "##### Extract duration of first and second reign from the 'Reign' column and store it in two new columns 'Duration First Reign' and 'Duration Second Reign' "
   ]
  },
  {
   "cell_type": "markdown",
   "metadata": {},
   "source": [
    "The duration of reign is given in the years, months and days. However, the format is not uniform. First a whole string has to be extracted. Then, from that string the years, months and days have to be extracted."
   ]
  },
  {
   "cell_type": "code",
   "execution_count": 167,
   "metadata": {},
   "outputs": [],
   "source": [
    "# Extract duration of first reign.\n",
    "def get_first_duration(row_value):\n",
    "    input_string = str(row_value)\n",
    "    if re.search(r\"\\(([a-zA-Z0-9\\s\\,\\/\\.\\;-]*)\\)\", input_string):\n",
    "        duration = re.findall(r\"(\\([a-zA-Z0-9\\s\\,\\/\\.\\;-]*\\))\", input_string)[0]\n",
    "    else:\n",
    "        duration = \"(30 days)\"\n",
    "    return duration\n",
    "\n",
    "# Extract duration of second reign.\n",
    "def get_second_duration(row_value):\n",
    "    input_string = str(row_value)\n",
    "    if re.search(r\"\\(([a-zA-Z0-9\\s\\,\\/\\.\\;-]*)\\)\", input_string):\n",
    "        duration = re.findall(r\"(\\([a-zA-Z0-9\\s\\,\\/\\.\\;-]*\\))\", input_string)\n",
    "        if len(duration) > 1:\n",
    "            return duration[-1]\n",
    "        else:\n",
    "            return \"No second reign\"\n",
    "    else:\n",
    "        return \"No second reign\"\n",
    "\n",
    "emperors['Duration First Reign'] = emperors['Reign'].apply(get_first_duration)\n",
    "emperors['Duration Second Reign'] = emperors['Reign'].apply(get_second_duration)"
   ]
  },
  {
   "cell_type": "markdown",
   "metadata": {},
   "source": [
    "Extract the years, months and the days of the duration of reign and store the information in separate columns."
   ]
  },
  {
   "cell_type": "code",
   "execution_count": 168,
   "metadata": {},
   "outputs": [],
   "source": [
    "# Extract the years of the duration of reign.\n",
    "def get_duration_year(row_value):\n",
    "    input_string = str(row_value)\n",
    "    if re.search(r\"\\(\\d(?=\\syear)\", input_string):\n",
    "        year = re.findall(r\"\\d(?=\\syear)\", input_string)[0]\n",
    "    elif re.search(r\"\\s\\d(?=\\syear)\", input_string):\n",
    "        year = re.findall(r\"\\d(?=\\syear)\", input_string)[0]\n",
    "    elif re.search(r\"\\sa(?=\\syear)\", input_string):\n",
    "        year = \"1\"\n",
    "    elif re.search(r\"\\s\\d\\d(?=\\syear)\", input_string):\n",
    "        year = re.findall(r\"\\d\\d(?=\\syear)\", input_string)[0]\n",
    "    elif re.search(r\"\\(\\d\\d(?=\\syear)\", input_string):\n",
    "        year = re.findall(r\"\\d\\d(?=\\syear)\", input_string)[0]\n",
    "    else:\n",
    "        year = \"0\"\n",
    "    return int(year)\n",
    "\n",
    "emperors['Years Duration First Reign'] = emperors['Duration First Reign'].apply(get_duration_year)\n",
    "emperors['Years Duration Second Reign'] = emperors['Duration Second Reign'].apply(get_duration_year)"
   ]
  },
  {
   "cell_type": "code",
   "execution_count": 169,
   "metadata": {},
   "outputs": [],
   "source": [
    "# Extract the months of the duration of reign.\n",
    "def get_duration_month(row_value):\n",
    "    input_string = str(row_value)\n",
    "    if re.search(r\"\\(\\d(?=\\smonth)\", input_string):\n",
    "        month = re.findall(r\"\\d(?=\\smonth)\", input_string)[0]\n",
    "    elif re.search(r\"\\s\\d(?=\\smonth)\", input_string):\n",
    "        month = re.findall(r\"\\d(?=\\smonth)\", input_string)[0]\n",
    "    elif re.search(r\"\\sa(?=\\smonth)\", input_string):\n",
    "        month = \"1\"\n",
    "    elif re.search(r\"\\s\\d\\d(?=\\smonth)\", input_string):\n",
    "        month = re.findall(r\"\\d\\d(?=\\smonth)\", input_string)[0]\n",
    "    elif re.search(r\"\\(\\d\\d(?=\\smonth)\", input_string):\n",
    "        month = re.findall(r\"\\d\\d(?=\\smonth)\", input_string)[0]\n",
    "    else:\n",
    "        month= \"0\"\n",
    "    return int(month)\n",
    "\n",
    "emperors['Months Duration First Reign'] = emperors['Duration First Reign'].apply(get_duration_month)\n",
    "emperors['Months Duration Second Reign'] = emperors['Duration Second Reign'].apply(get_duration_month)"
   ]
  },
  {
   "cell_type": "code",
   "execution_count": 170,
   "metadata": {},
   "outputs": [],
   "source": [
    "# Extract the days of the duration of reign.\n",
    "def get_duration_day(row_value):\n",
    "    input_string = str(row_value)\n",
    "    if re.search(r\"\\(\\d(?=\\sday)\", input_string):\n",
    "        day = re.findall(r\"\\d(?=\\sday)\", input_string)[0]\n",
    "    elif re.search(r\"\\s\\d(?=\\sday)\", input_string):\n",
    "        day = re.findall(r\"\\d(?=\\sday)\", input_string)[0]\n",
    "    elif re.search(r\"\\sa(?=\\sday)\", input_string):\n",
    "        day = \"1\"\n",
    "    elif re.search(r\"\\s\\d\\d(?=\\sday)\", input_string):\n",
    "        day = re.findall(r\"\\d\\d(?=\\sday)\", input_string)[0]\n",
    "    elif re.search(r\"\\(\\d\\d(?=\\sday)\", input_string):\n",
    "        day = re.findall(r\"\\d\\d(?=\\sday)\", input_string)[0]\n",
    "    else:\n",
    "        day = \"0\"\n",
    "    return int(day)\n",
    "\n",
    "emperors['Days Duration First Reign'] = emperors['Duration First Reign'].apply(get_duration_day)\n",
    "emperors['Days Duration Second Reign'] = emperors['Duration Second Reign'].apply(get_duration_day)"
   ]
  },
  {
   "cell_type": "markdown",
   "metadata": {},
   "source": [
    "The given format (years, months, days) of the duration of reign is not easy to work with. Calculate the duration in years and days."
   ]
  },
  {
   "cell_type": "code",
   "execution_count": 171,
   "metadata": {},
   "outputs": [],
   "source": [
    "# Calculate years and days of the frist reign\n",
    "emperors['Days of First Reign'] = (emperors['Years Duration First Reign'] * 365)  + (emperors['Months Duration First Reign'] * 30) + emperors['Days Duration First Reign']\n",
    "emperors['Years of First Reign'] = round(emperors['Days of First Reign'] / 365, 2)\n",
    "\n",
    "# Calculate years and days of the second reign\n",
    "emperors['Days of Second Reign'] = (emperors['Years Duration Second Reign'] * 365)  + (emperors['Months Duration Second Reign'] * 30) + emperors['Days Duration Second Reign']\n",
    "emperors['Years of Second Reign'] = round(emperors['Days of Second Reign'] / 365, 2)"
   ]
  },
  {
   "cell_type": "markdown",
   "metadata": {},
   "source": [
    "##### Extract territory information from 'Reign' column into new column 'Part of Empire'"
   ]
  },
  {
   "cell_type": "markdown",
   "metadata": {},
   "source": [
    "Begining with the time of Diocletian (284-305) the Roman Empire over longer periods was split in two or more parts. Sometimes it was reunited under one emperor. Therefore emperors often controlled only parts of the Empire. The relevant information needs to be extracted from the 'Reign' column."
   ]
  },
  {
   "cell_type": "code",
   "execution_count": 172,
   "metadata": {},
   "outputs": [],
   "source": [
    "# Create a new column 'Part of Empire'.\n",
    "def part_of_the_empire(reign):\n",
    "    if (\"Whole\" in reign) or (\"whole\" in reign):\n",
    "        return \"Whole empire\"\n",
    "    elif \"East\" in reign:\n",
    "        return \"East\"\n",
    "    elif \"West\" in reign:\n",
    "        return \"West\"\n",
    "    elif \"Italy\" in reign:\n",
    "        return \"Italy\"\n",
    "    else:\n",
    "        return \"Whole empire\"\n",
    "\n",
    "emperors['Part of Empire'] = emperors['Reign'].apply(part_of_the_empire)"
   ]
  },
  {
   "cell_type": "markdown",
   "metadata": {},
   "source": [
    "# 'Succession' column"
   ]
  },
  {
   "cell_type": "markdown",
   "metadata": {},
   "source": [
    "The 'Scuccession' column contains informations about the dynastical relation of the emperors and the historical circumstances that brought the emperors to power. The several points of information are seperated by the delimiters '.' and ';'. "
   ]
  },
  {
   "cell_type": "markdown",
   "metadata": {},
   "source": [
    "##### Split the 'Succession' column "
   ]
  },
  {
   "cell_type": "code",
   "execution_count": 173,
   "metadata": {},
   "outputs": [],
   "source": [
    "# Split 'Succession' column into temporary dataframe 'sucession_split'.\n",
    "succession_split = emperors['Succession'].str.split(r\"(\\.|;)\", expand=True)\n",
    "\n",
    "# Remove columns that only contain '.' and ';'.\n",
    "succession_split = succession_split.drop(columns = succession_split.columns[(succession_split == r'.').any()])\n",
    "succession_split = succession_split.drop(columns = succession_split.columns[(succession_split == r';').any()])\n",
    "\n",
    "# Replace empty cells with 'No information'.\n",
    "for i in list(succession_split.columns):\n",
    "    succession_split.loc[succession_split[i].isnull(), i] = \"No information\"\n",
    "\n",
    "for i in list(succession_split.columns):\n",
    "    succession_split.loc[succession_split[i] == \"\", i] = \"No information\"\n",
    "\n",
    "# Remove leading white spaces.\n",
    "for i in list(succession_split.columns):\n",
    "    succession_split[i] = succession_split[i].replace(to_replace=r\"^\\s\", value=\"\", regex=True)\n",
    "\n",
    "# Make first letter upper case.\n",
    "def first_letter_upper(row_value):\n",
    "    input_string = str(row_value)\n",
    "    first_letter = input_string[0].upper()\n",
    "    capitalized_string = first_letter + input_string[1:]\n",
    "    return capitalized_string\n",
    "\n",
    "for i in list(succession_split.columns):\n",
    "    succession_split[i] = succession_split[i].apply(first_letter_upper)"
   ]
  },
  {
   "cell_type": "code",
   "execution_count": 174,
   "metadata": {},
   "outputs": [],
   "source": [
    "# Create new columns 'Succession 1', 'Succession 2', 'Succession 3' from the 'succession_split' dataframe.\n",
    "index = 1\n",
    "for i in list(succession_split.columns):\n",
    "    emperors['Succession ' + str(index)] = succession_split[i]\n",
    "    index += 1"
   ]
  },
  {
   "cell_type": "markdown",
   "metadata": {},
   "source": [
    "# 'Life details' column"
   ]
  },
  {
   "cell_type": "markdown",
   "metadata": {},
   "source": [
    "The 'Life details' column contains the date of birth, the date of death, the age of the emperors, as well as some biographical information, especially historical deeds of the emperors and details of the their death circumstances, given that emperors very often did not die a natural death.\n",
    "\n",
    "All this information needs to be extracted."
   ]
  },
  {
   "cell_type": "markdown",
   "metadata": {},
   "source": [
    "##### Extract the emperors' ages"
   ]
  },
  {
   "cell_type": "code",
   "execution_count": 175,
   "metadata": {},
   "outputs": [],
   "source": [
    "# Exctract age from the 'Life details' column.\n",
    "def get_age(row_value):\n",
    "    input_string = str(row_value)\n",
    "    if re.search(r\"(\\d\\d)(?=\\))\", input_string):\n",
    "        age = re.findall(r\"(\\d\\d)(?=\\))\", input_string)[0]\n",
    "    elif re.search(r\"(\\s\\d)(?=\\))\", input_string):\n",
    "        age = re.findall(r\"(\\d)(?=\\))\", input_string)[0]\n",
    "    else:\n",
    "        age = \"Unknown\"\n",
    "    return age\n",
    "\n",
    "emperors['Age'] = emperors['Life details'].apply(get_age)"
   ]
  },
  {
   "cell_type": "markdown",
   "metadata": {},
   "source": [
    "##### Extract date of birth and date of death"
   ]
  },
  {
   "cell_type": "code",
   "execution_count": 176,
   "metadata": {},
   "outputs": [],
   "source": [
    "# Extract date of birth from the 'Life details' column.\n",
    "def get_date_of_birth(row_value):\n",
    "    input_string = str(row_value)\n",
    "    if re.search(r\"\\(\\?\\)\\s-\\s\", input_string):\n",
    "        date = re.findall(r\"(.*)(?=\\(\\?\\)\\s-\\s)\", input_string)[0]\n",
    "    elif re.search(r\"\\s-\\s\", input_string):\n",
    "        date = re.findall(r\"(.*)(?=\\s-\\s)\", input_string)[0]\n",
    "    else:\n",
    "        date = \"Unknown\"\n",
    "    return date\n",
    "\n",
    "emperors['Date of Birth'] = emperors['Life details'].apply(get_date_of_birth)\n"
   ]
  },
  {
   "cell_type": "code",
   "execution_count": 177,
   "metadata": {},
   "outputs": [],
   "source": [
    "# Exctract date of death from the 'Life details' column.\n",
    "def get_date_of_death(row_value):\n",
    "    input_string = str(row_value)\n",
    "    if re.search(r\"\\s\\(a\", input_string):\n",
    "        date = re.findall(r\"(?<=\\s-\\s)(.*)(?=\\s\\(a)\", input_string)[0]\n",
    "    elif re.search(r\"\\s-\\s\", input_string):\n",
    "        date = re.findall(r\"(?<=\\s-\\s)(.*)\", input_string)[0]\n",
    "        if re.search(r\"\\d\\d\\d[A-Z]\", date):\n",
    "            date = re.findall(r\"(.*\\d\\d\\d)(?=[A-Z])\", date)[0]\n",
    "        elif re.search(r\"\\(\\?\\)\", date):\n",
    "            date = re.findall(r\"(.*)(?=\\(\\?\\))\", date)[0]\n",
    "        elif re.search(r\"\\?\", date):\n",
    "            date = re.findall(r\"(.*)(?=\\?)\", date)[0] \n",
    "        elif re.search(r\"\\s\\(\", date):\n",
    "            date = re.findall(r\"(.*)(?=\\s\\()\", date)[0]\n",
    "        else:\n",
    "            date = \"Unkown\"\n",
    "    else:\n",
    "        date = \"Unkown\"\n",
    "    return date\n",
    "\n",
    "emperors['Date of Death'] = emperors['Life details'].apply(get_date_of_death)"
   ]
  },
  {
   "cell_type": "markdown",
   "metadata": {},
   "source": [
    "##### Extract remaining information"
   ]
  },
  {
   "cell_type": "code",
   "execution_count": 178,
   "metadata": {},
   "outputs": [],
   "source": [
    "# Extract the other information from the 'Life details' column into the temporary column 'Life'\n",
    "def get_life_detail(row_value):\n",
    "    input_string = str(row_value)\n",
    "    detail = \"Nothing known\"\n",
    "    if re.search(r\".*\\).*\\)\", input_string):\n",
    "        find_string = re.findall(r\"(?<=\\))(.*)\", input_string)[0]\n",
    "        detail = re.findall(r\"(?<=\\))(.*)\", find_string)[0]\n",
    "    elif re.search(r\"\\(.*\\)\", input_string):\n",
    "        detail = re.findall(r\"(?<=\\))(.*)\", input_string)[0]\n",
    "    elif re.search(r\"\\?[A-Za-z]\", input_string): \n",
    "        detail = re.findall(r\"(?<=\\?)(.*)\", input_string)[0]\n",
    "    elif re.search(r\"/\\d\\d\\d[A-Za-z]\", input_string):\n",
    "        detail = re.findall(r\"(?<=/\\d\\d\\d)(.*)\", input_string)[0]\n",
    "    elif re.search(r\"\\d\\d\\d[A-Za-z]\", input_string):\n",
    "        detail = re.findall(r\"(?<=\\d\\d\\d)(.*)\", input_string)[0]\n",
    "    elif re.search(r\"lifespan[A-Za-z]\", input_string):\n",
    "        detail = re.findall(r\"(?<=lifespan)(.*)\", input_string)[0]\n",
    "    return detail\n",
    "\n",
    "emperors['Life'] = emperors['Life details'].apply(get_life_detail)"
   ]
  },
  {
   "cell_type": "code",
   "execution_count": 179,
   "metadata": {},
   "outputs": [],
   "source": [
    "# Split the 'Life' column into temporary data frame life_details_split.\n",
    "life_details_split = emperors['Life'].str.split(r\"(\\.|;)\", expand=True)\n",
    "\n",
    "# Remove columns that only contain '.' and ';'.\n",
    "life_details_split = life_details_split.drop(columns = life_details_split.columns[(life_details_split == r'.').any()])\n",
    "life_details_split = life_details_split.drop(columns = life_details_split.columns[(life_details_split == r';').any()])\n",
    "\n",
    "# Replace empty cells with 'No information'.\n",
    "for i in list(life_details_split.columns):\n",
    "    life_details_split.loc[life_details_split[i].isnull(), i] = \"No information\"\n",
    "\n",
    "for i in list(life_details_split.columns):\n",
    "    life_details_split.loc[life_details_split[i] == \"\", i] = \"No information\"\n",
    "\n",
    "# Remove leading white spaces.\n",
    "for i in list(life_details_split.columns):\n",
    "    life_details_split[i] = life_details_split[i].replace(to_replace=r\"^\\s\", value=\"\", regex=True)\n",
    "\n",
    "# Make first letter upper case.\n",
    "def first_letter_upper(row_value):\n",
    "    input_string = str(row_value)\n",
    "    first_letter = input_string[0].upper()\n",
    "    capitalized_string = first_letter + input_string[1:]\n",
    "    return capitalized_string\n",
    "\n",
    "for i in list(life_details_split.columns):\n",
    "    life_details_split[i] = life_details_split[i].apply(first_letter_upper)\n"
   ]
  },
  {
   "cell_type": "code",
   "execution_count": 180,
   "metadata": {},
   "outputs": [],
   "source": [
    "# Create new columns 'Life details 1', 'Life details 2', 'Life details 3', 'Life details 4' from the 'life_details_split' dataframe.\n",
    "index = 1\n",
    "for i in list(life_details_split.columns):\n",
    "    emperors['Life details ' + str(index)] = life_details_split[i]\n",
    "    index += 1"
   ]
  },
  {
   "cell_type": "markdown",
   "metadata": {},
   "source": [
    "##### Extract certainty of dates of birth and death"
   ]
  },
  {
   "cell_type": "code",
   "execution_count": 181,
   "metadata": {},
   "outputs": [],
   "source": [
    "# Extract certainty of dates of birth and death.\n",
    "emperors['Certainty Birth'] = emperors['Date of Birth'].apply(get_certainty)\n",
    "emperors['Certainty Death'] = emperors['Date of Death'].apply(get_certainty)"
   ]
  },
  {
   "cell_type": "markdown",
   "metadata": {},
   "source": [
    "##### Determine the era of the date of birth"
   ]
  },
  {
   "cell_type": "code",
   "execution_count": 182,
   "metadata": {},
   "outputs": [],
   "source": [
    "# Augustus was the only emperor, who was born before the year 0 (marked with 'BC').\n",
    "# Determine the era of the date of birth ('BC' or 'AD') \n",
    "# and store the information in an column 'Era Birth'.\n",
    "# Remove'BC' in the 'Date of Birth' column.\n",
    "emperors['Era Birth'] = emperors['Date of Birth'].apply(determine_era)\n",
    "emperors['Date of Birth'] = emperors['Date of Birth'].replace(to_replace=r\"\\sBC\", value=\"\", regex=True)"
   ]
  },
  {
   "cell_type": "markdown",
   "metadata": {},
   "source": [
    "##### Create 'Date of Birth' and 'Date of Death' columns"
   ]
  },
  {
   "cell_type": "code",
   "execution_count": 183,
   "metadata": {},
   "outputs": [],
   "source": [
    "# Get the year, month and day of birth and death, using the functions defined for the 'Reign' column.\n",
    "emperors['Year Birth'] = emperors['Date of Birth'].apply(get_year)\n",
    "emperors['Month Birth'] = emperors['Date of Birth'].apply(get_month)\n",
    "emperors['Day Birth'] = emperors['Date of Birth'].apply(get_day)\n",
    "\n",
    "emperors['Year Death'] = emperors['Date of Death'].apply(get_year)\n",
    "emperors['Month Death'] = emperors['Date of Death'].apply(get_month)\n",
    "emperors['Day Death'] = emperors['Date of Death'].apply(get_day)"
   ]
  },
  {
   "cell_type": "code",
   "execution_count": 184,
   "metadata": {},
   "outputs": [],
   "source": [
    "# Combine the year, month, and day columns into new columns 'Date of Birth' and 'Date of Death'.\n",
    "emperors['Date of Birth'] = emperors['Year Birth'].astype(str) + \"-\" \\\n",
    "        + emperors['Month Birth'].astype(str) + \"-\" \\\n",
    "        + emperors['Day Birth'].astype(str)\n",
    "\n",
    "emperors['Date of Death'] = emperors['Year Death'].astype(str) + \"-\" \\\n",
    "        + emperors['Month Death'].astype(str) + \"-\" \\\n",
    "        + emperors['Day Death'].astype(str)"
   ]
  },
  {
   "cell_type": "markdown",
   "metadata": {},
   "source": [
    "# Store end result in the emperors dataframe"
   ]
  },
  {
   "cell_type": "code",
   "execution_count": 185,
   "metadata": {},
   "outputs": [],
   "source": [
    "# Keep the final columns and and drop all unnecessary columns.\n",
    "emperors = emperors[[\n",
    "    'Common Name', \n",
    "    'Full Name',\n",
    "    'Certainty Begin First Reign',\n",
    "    'Era Begin First Reign',\n",
    "    'Begin First Reign',\n",
    "    'Certainty End First Reign', \n",
    "    'End First Reign',\n",
    "    'Days of First Reign',\n",
    "    'Years of First Reign',\n",
    "    'Certainty Begin Second Reign',\n",
    "    'Begin Second Reign',\n",
    "    'Certainty End Second Reign',\n",
    "    'End Second Reign',\n",
    "    'Days of Second Reign',\n",
    "    'Years of Second Reign',\n",
    "    'Part of Empire',\n",
    "    'Period',\n",
    "    'Epoch',\n",
    "    'Legitimacy',\n",
    "    'Status as Emperor',\n",
    "    'Succession 1',\n",
    "    'Succession 2',\n",
    "    'Succession 3',\n",
    "    'Certainty Birth',\n",
    "    'Era Birth',\n",
    "    'Date of Birth',\n",
    "    'Certainty Death',\n",
    "    'Date of Death',\n",
    "    'Age',\n",
    "    'Life details 1', \n",
    "    'Life details 2', \n",
    "    'Life details 3',\n",
    "    'Life details 4']]"
   ]
  },
  {
   "cell_type": "markdown",
   "metadata": {},
   "source": [
    "# Save the cleaned data to csv file"
   ]
  },
  {
   "cell_type": "code",
   "execution_count": 186,
   "metadata": {},
   "outputs": [],
   "source": [
    "# Save cleaned data as csv-file.\n",
    "emperors.to_csv(r\"C:\\Users\\Rainer\\Documents\\mein github code\\roman_emperors_data_cleaning\\data_roman_emperors_cleaned.csv\", index=False)"
   ]
  }
 ],
 "metadata": {
  "kernelspec": {
   "display_name": "Python 3",
   "language": "python",
   "name": "python3"
  },
  "language_info": {
   "codemirror_mode": {
    "name": "ipython",
    "version": 3
   },
   "file_extension": ".py",
   "mimetype": "text/x-python",
   "name": "python",
   "nbconvert_exporter": "python",
   "pygments_lexer": "ipython3",
   "version": "3.12.0"
  }
 },
 "nbformat": 4,
 "nbformat_minor": 2
}
